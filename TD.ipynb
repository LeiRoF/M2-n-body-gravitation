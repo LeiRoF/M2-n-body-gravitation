{
 "cells": [
  {
   "cell_type": "code",
   "execution_count": 17,
   "metadata": {},
   "outputs": [
    {
     "name": "stdout",
     "output_type": "stream",
     "text": [
      "\u001b[31m\u001b[42m e = 0.1 \u001b[0m\t\u001b[31m\u001b[42m e = 0.7 \u001b[0m\t\u001b[31m\u001b[42m e = 0.95 \u001b[0m\t\n",
      "\n",
      "E0 = 0.500\tE0 = 0.500\tE0 = 0.500\t \n",
      "E0 = 1.048\tE0 = 1.336\tE0 = 1.455\t \n",
      "E0 = 1.087\tE0 = 1.681\tE0 = 1.944\t \n",
      "E0 = 1.089\tE0 = 1.696\tE0 = 1.885\t \n",
      "E0 = 1.089\tE0 = 1.695\tE0 = 1.904\t \n",
      "E0 = 1.089\tE0 = 1.695\tE0 = 1.898\t \n",
      "E0 = 1.089\tE0 = 1.695\tE0 = 1.900\t \n",
      "E0 = 1.089\tE0 = 1.695\tE0 = 1.899\t \n",
      "E0 = 1.089\tE0 = 1.695\tE0 = 1.899\t \n",
      "E0 = 1.089\tE0 = 1.695\tE0 = 1.899\t \n"
     ]
    }
   ],
   "source": [
    "import numpy as np\n",
    "from LRFutils import color\n",
    "\n",
    "def get_next_fixedpoint_E(M, E=None, e=None):\n",
    "    if E is None:\n",
    "        return M\n",
    "    else:\n",
    "        return M + e * np.sin(E)\n",
    "\n",
    "def get_next_newton_E(M, E=None, e=None):\n",
    "    if E is None:\n",
    "        return M\n",
    "    else:\n",
    "        return E - (E - e * np.sin(E) - M) / (1 - e * np.cos(E))\n",
    "\n",
    "M = 1\n",
    "e_list = [0.1,0.7,0.95]\n",
    "E = []\n",
    "\n",
    "for j, e in enumerate(e_list):\n",
    "    print(f\"{color.Red + color.on_Green} e = {e} {color.NC}\\t\", end=\"\")\n",
    "    E.append([get_next_fixedpoint_E(0.5, e=0.5)])\n",
    "    for i in range(10):\n",
    "        E[j].append(get_next_fixedpoint_E(M, E[j][-1], e=e))\n",
    "\n",
    "print(\"\\n\")\n",
    "\n",
    "for i in range(10):\n",
    "    for j in range(len(E)):\n",
    "        print(f\"E0 = {E[j][i]:.3f}\\t\", end=\"\")\n",
    "    \n",
    "    print(\" \")"
   ]
  },
  {
   "cell_type": "code",
   "execution_count": 18,
   "metadata": {},
   "outputs": [
    {
     "name": "stdout",
     "output_type": "stream",
     "text": [
      "\u001b[31m\u001b[42m e = 0.1 \u001b[0m\t\u001b[31m\u001b[42m e = 0.7 \u001b[0m\t\u001b[31m\u001b[42m e = 0.95 \u001b[0m\t\n",
      "\n",
      "E0 = 0.500\tE0 = 0.500\tE0 = 0.500\t \n",
      "E0 = 1.101\tE0 = 2.666\tE0 = 6.245\t \n",
      "E0 = 1.089\tE0 = 1.837\tE0 = -97.973\t \n",
      "E0 = 1.089\tE0 = 1.700\tE0 = -42.470\t \n",
      "E0 = 1.089\tE0 = 1.695\tE0 = 4.547\t \n",
      "E0 = 1.089\tE0 = 1.695\tE0 = 0.670\t \n",
      "E0 = 1.089\tE0 = 1.695\tE0 = 4.275\t \n",
      "E0 = 1.089\tE0 = 1.695\tE0 = 1.325\t \n",
      "E0 = 1.089\tE0 = 1.695\tE0 = 2.101\t \n",
      "E0 = 1.089\tE0 = 1.695\tE0 = 1.911\t \n"
     ]
    }
   ],
   "source": [
    "def get_next_newton_E(M, E=None, e=None):\n",
    "    if E is None:\n",
    "        return M\n",
    "    else:\n",
    "        return E - (E - e * np.sin(E) - M) / (1 - e * np.cos(E))\n",
    "\n",
    "M = 1\n",
    "e_list = [0.1,0.7,0.95]\n",
    "E = []\n",
    "\n",
    "for j, e in enumerate(e_list):\n",
    "    print(f\"{color.Red + color.on_Green} e = {e} {color.NC}\\t\", end=\"\")\n",
    "    E.append([get_next_newton_E(0.5, e=0.5)])\n",
    "    for i in range(10):\n",
    "        E[j].append(get_next_newton_E(M, E[j][-1], e=e))\n",
    "\n",
    "print(\"\\n\")\n",
    "\n",
    "for i in range(10):\n",
    "    for j in range(len(E)):\n",
    "        print(f\"E0 = {E[j][i]:.3f}\\t\", end=\"\")\n",
    "    \n",
    "    print(\" \")"
   ]
  }
 ],
 "metadata": {
  "kernelspec": {
   "display_name": "Python 3.10.8 64-bit (microsoft store)",
   "language": "python",
   "name": "python3"
  },
  "language_info": {
   "codemirror_mode": {
    "name": "ipython",
    "version": 3
   },
   "file_extension": ".py",
   "mimetype": "text/x-python",
   "name": "python",
   "nbconvert_exporter": "python",
   "pygments_lexer": "ipython3",
   "version": "3.10.8"
  },
  "orig_nbformat": 4,
  "vscode": {
   "interpreter": {
    "hash": "e0d398e7c3cc3d2b8386dfea47f5eae3378d5d39db7e2c8ef87e93246db0bfd2"
   }
  }
 },
 "nbformat": 4,
 "nbformat_minor": 2
}
